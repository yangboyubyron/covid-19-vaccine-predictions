{
 "cells": [
  {
   "cell_type": "markdown",
   "id": "d9cc418e",
   "metadata": {},
   "source": [
    "# COVID-19 Dataset\n",
    "Kaggle Links: [US Vaccine Tracker + Population Stats](https://www.kaggle.com/peretzcohen/us-vaccine-tracker/data#Your-turn_)\n",
    "\n",
    "Using 2019 population data from the U.S. Census and COVID-19 vaccine records from Our World In Data on GitHub to visualize and forecast vaccine progression as it relates to total state population.\n",
    "***"
   ]
  },
  {
   "cell_type": "markdown",
   "id": "9f803f75",
   "metadata": {},
   "source": [
    "*import necessary modules*"
   ]
  },
  {
   "cell_type": "code",
   "execution_count": 7,
   "id": "c4a1d675",
   "metadata": {},
   "outputs": [],
   "source": [
    "import pandas as pd\n",
    "import os\n",
    "\n",
    "import matplotlib.pyplot as plt\n",
    "plt.style.use('ggplot')"
   ]
  },
  {
   "cell_type": "markdown",
   "id": "b37f8207",
   "metadata": {},
   "source": [
    "***\n",
    "__Extract__<br>\n",
    "Using 2019 Census data from kaggle and daily-updated covid-19 vaccination data from *Our World In Data*'s GitHub page "
   ]
  },
  {
   "cell_type": "code",
   "execution_count": 8,
   "id": "985bd1bf",
   "metadata": {
    "scrolled": false
   },
   "outputs": [],
   "source": [
    "cwd = os.getcwd()\n",
    "pop_data = pd.read_csv(cwd + \"\\\\data\\\\\" + \"2019_Census_US_Population_Data_By_State_Lat_Long.csv\")\n",
    "vacc_data = pd.read_csv(\"https://raw.githubusercontent.com/owid/covid-19-data/master/public/data/vaccinations/us_state_vaccinations.csv\")"
   ]
  },
  {
   "cell_type": "markdown",
   "id": "0bdacb47",
   "metadata": {},
   "source": [
    "***\n",
    "__Transform__\n",
    "\n",
    "Combine population by state and total vaccinations by state"
   ]
  },
  {
   "cell_type": "code",
   "execution_count": 9,
   "id": "a75d6e03",
   "metadata": {},
   "outputs": [],
   "source": [
    "vacc_data_state = vacc_data[['date', 'location', 'people_vaccinated']].copy()\n",
    "pop_data_state = pop_data[['STATE', 'POPESTIMATE2019']].copy()\n",
    "\n",
    "vacc_data_state.dropna(subset=['people_vaccinated'], inplace=True)\n",
    "pop_data_state.dropna(subset=['POPESTIMATE2019'], inplace=True)\n",
    "\n",
    "pop_data_state.rename(columns={'STATE': 'location'}, inplace=True)\n",
    "pop_data_state.rename(columns={'POPESTIMATE2019': 'population'}, inplace=True)\n",
    "\n",
    "merged = pd.merge(vacc_data_state, pop_data_state, how='left', on=['location'])\n",
    "merged.dropna(subset=['population'], inplace=True)\n",
    "\n",
    "merged['location'] = merged['location'].astype(str)\n",
    "merged['percent'] = merged.people_vaccinated / merged.population * 100\n",
    "\n",
    "merged.columns = merged.columns.str.strip()\n",
    "merged.date = pd.to_datetime(merged.date, format='%Y-%m-%d')"
   ]
  },
  {
   "cell_type": "markdown",
   "id": "fcf2e9fb",
   "metadata": {},
   "source": [
    "***\n",
    "__Visualizations__<br>\n",
    "Modify <code>state_name</code> on line 16 to determine which state's vaccine records you would like to further understand. All following cells use this specified state as reference. Use <code>plot_state(state_name, vis)</code> or <code>plot_all()</code> on line 17 to plot data from a single state, or all data combined."
   ]
  },
  {
   "cell_type": "code",
   "execution_count": 67,
   "id": "ae5eb664",
   "metadata": {
    "scrolled": false
   },
   "outputs": [
    {
     "data": {
      "image/png": "[encoded data removed]",
      "text/plain": [
       "<Figure size 432x288 with 1 Axes>"
      ]
     },
     "metadata": {},
     "output_type": "display_data"
    }
   ],
   "source": [
    "vis = merged[['date', 'percent', 'location']]\n",
    "\n",
    "def plot_state(state_name, vis):\n",
    "    # limiting vis data to a single state\n",
    "    vis = vis.loc[vis['location'] == state_name]\n",
    "    vis = vis[['date', 'percent']]\n",
    "    vis.plot(kind='line', x='date', y='percent', label=state_name)\n",
    "\n",
    "def plot_all(vis):\n",
    "    groups = vis.groupby('location')\n",
    "    for name, group in groups:\n",
    "        plt.plot(group['date'], group['percent'], label=name)\n",
    "    plt.legend(loc='center left', bbox_to_anchor=(1, 0.5))\n",
    "\n",
    "## customize visualizations\n",
    "state_name = 'South Carolina'\n",
    "plot_state(state_name, vis)\n",
    "#plot_all()"
   ]
  },
  {
   "cell_type": "markdown",
   "id": "63f225fb",
   "metadata": {},
   "source": [
    "***\n",
    "__Predictions__"
   ]
  },
  {
   "cell_type": "code",
   "execution_count": 74,
   "id": "eee82fe1",
   "metadata": {},
   "outputs": [],
   "source": [
    "state = merged.loc[merged['location'] == state_name]\n",
    "state = state[['date', 'location', 'percent']]"
   ]
  },
  {
   "cell_type": "code",
   "execution_count": 75,
   "id": "b5fcd177",
   "metadata": {},
   "outputs": [
    {
     "name": "stderr",
     "output_type": "stream",
     "text": [
      "C:\\Users\\ramis\\AppData\\Local\\Packages\\PythonSoftwareFoundation.Python.3.8_qbz5n2kfra8p0\\LocalCache\\local-packages\\Python38\\site-packages\\statsmodels\\tsa\\holtwinters\\model.py:427: FutureWarning: After 0.13 initialization must be handled at model creation\n",
      "  warnings.warn(\n",
      "[2021-06-25 05:02:18,880] INFO | darts.utils.statistics | The ACF has no local maximum for m < max_lag = 70.\n",
      "[2021-06-25 05:02:18,881] INFO | darts.models.theta | Theta model inferred seasonality of training series: 0\n",
      "[2021-06-25 05:02:18,881] INFO | darts.models.theta | Theta model inferred seasonality of training series: 0\n"
     ]
    },
    {
     "name": "stdout",
     "output_type": "stream",
     "text": [
      "Best model (ARIMA(12, 1, 0)) obtains MAPE: 0.28%\n"
     ]
    }
   ],
   "source": [
    "from darts import TimeSeries\n",
    "import darts.models as models\n",
    "from darts.metrics import mape, mase\n",
    "from darts.utils.statistics import check_seasonality, plot_acf, plot_residuals_analysis\n",
    "\n",
    "get_data = state[['date', 'percent']].copy()\n",
    "\n",
    "# fill missing dates with padded vaccination percent data. 0.0 values would otherwise disrupt the model\n",
    "reset = pd.date_range(start=get_data.date.min(), end=get_data.date.max())\n",
    "get_data = get_data.set_index('date').reindex(reset).fillna(method='pad').rename_axis('date').reset_index()\n",
    "\n",
    "series = TimeSeries.from_dataframe(get_data, 'date', 'percent')\n",
    "# split train/test down the middle of the dataset [get_data.date.median()]\n",
    "train, test = series.split_before(pd.Timestamp('2021-06-01'))\n",
    "\n",
    "def test_models(models, train, test):\n",
    "    best = None\n",
    "    lowest = float('inf')\n",
    "    for model in models:\n",
    "        model.fit(train)\n",
    "        forecast = model.predict(len(test))\n",
    "        #print(\"model {} obtains MAPE: {:.2f}%\".format(model, mape(test, forecast)))\n",
    "        err = mape(test, forecast)\n",
    "        if err < lowest:\n",
    "            lowest = err\n",
    "            best = model\n",
    "    print('Best model ({}) obtains MAPE: {:.2f}%'.format(best, lowest))\n",
    "    return best\n",
    "\n",
    "best_model = test_models([models.ARIMA(), models.ExponentialSmoothing(), models.Theta(), models.AutoARIMA()], train, test)"
   ]
  },
  {
   "cell_type": "markdown",
   "id": "033c454a",
   "metadata": {},
   "source": [
    "***\n",
    "__Visualize Forecasts__"
   ]
  },
  {
   "cell_type": "code",
   "execution_count": 76,
   "id": "4a593da9",
   "metadata": {},
   "outputs": [
    {
     "name": "stderr",
     "output_type": "stream",
     "text": [
      "<ipython-input-76-530bf0b1c62d>:9: UserWarning: FixedFormatter should only be used together with FixedLocator\n",
      "  plt.gca().set_yticklabels(['{:0.0f}%'.format(x) for x in plt.gca().get_yticks()])\n"
     ]
    },
    {
     "data": {
      "text/plain": [
       "<matplotlib.legend.Legend at 0x2bf8ee7c7f0>"
      ]
     },
     "execution_count": 76,
     "metadata": {},
     "output_type": "execute_result"
    },
    {
     "data": {
      "image/png": "[encoded data removed]",
      "text/plain": [
       "<Figure size 432x288 with 1 Axes>"
      ]
     },
     "metadata": {},
     "output_type": "display_data"
    }
   ],
   "source": [
    "#predict next 60 days of vaccinations\n",
    "pred = best_model.predict(60)\n",
    "\n",
    "train.plot(label='actual')\n",
    "pred.plot(label='forecast', lw=2, linestyle='dashed')\n",
    "\n",
    "plt.suptitle(state.location.iloc[0], fontsize='14')\n",
    "plt.ylabel('percent of population vaccinated', fontsize='10')\n",
    "plt.gca().set_yticklabels(['{:0.0f}%'.format(x) for x in plt.gca().get_yticks()]) \n",
    "plt.xlabel('date', fontsize='10')\n",
    "plt.legend()"
   ]
  },
  {
   "cell_type": "code",
   "execution_count": null,
   "id": "6e59cba9",
   "metadata": {},
   "outputs": [],
   "source": []
  }
 ],
 "metadata": {
  "kernelspec": {
   "display_name": "Python 3",
   "language": "python",
   "name": "python3"
  },
  "language_info": {
   "codemirror_mode": {
    "name": "ipython",
    "version": 3
   },
   "file_extension": ".py",
   "mimetype": "text/x-python",
   "name": "python",
   "nbconvert_exporter": "python",
   "pygments_lexer": "ipython3",
   "version": "3.8.10"
  }
 },
 "nbformat": 4,
 "nbformat_minor": 5
}
