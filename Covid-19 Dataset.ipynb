{
 "cells": [
  {
   "cell_type": "markdown",
   "id": "d9cc418e",
   "metadata": {},
   "source": [
    "# COVID-19 Vaccine Dataset\n",
    "Kaggle Links: [US Vaccine Tracker + Population Stats](https://www.kaggle.com/peretzcohen/us-vaccine-tracker/data#Your-turn_)\n",
    "\n",
    "Using 2019 population data from the U.S. Census and COVID-19 vaccine records from Our World In Data on GitHub to visualize and forecast vaccine progression as it relates to total state population.\n",
    "***"
   ]
  },
  {
   "cell_type": "markdown",
   "id": "9f803f75",
   "metadata": {},
   "source": [
    "*import necessary modules*"
   ]
  },
  {
   "cell_type": "code",
   "execution_count": 1,
   "id": "c4a1d675",
   "metadata": {},
   "outputs": [],
   "source": [
    "import pandas as pd\n",
    "import os\n",
    "import requests\n",
    "import json\n",
    "\n",
    "import matplotlib.pyplot as plt\n",
    "from datetime import datetime\n",
    "\n",
    "plt.style.use('ggplot')"
   ]
  },
  {
   "cell_type": "markdown",
   "id": "b37f8207",
   "metadata": {},
   "source": [
    "***\n",
    "__Extract__<br>\n",
    "Using 2019 Census data from kaggle and daily-updated covid-19 vaccination data from *Our World In Data*'s GitHub page "
   ]
  },
  {
   "cell_type": "code",
   "execution_count": 2,
   "id": "985bd1bf",
   "metadata": {
    "scrolled": false
   },
   "outputs": [],
   "source": [
    "cwd = os.getcwd()\n",
    "pop_data = pd.read_csv(cwd + \"\\\\data\\\\\" + \"2019_Census_US_Population_Data_By_State_Lat_Long.csv\")\n",
    "vacc_data = pd.read_csv(\"https://raw.githubusercontent.com/owid/covid-19-data/master/public/data/vaccinations/us_state_vaccinations.csv\")"
   ]
  },
  {
   "cell_type": "code",
   "execution_count": 3,
   "id": "052bf18a",
   "metadata": {},
   "outputs": [],
   "source": [
    "# pull unemployment data from BLS.gov website\n",
    "# series_id codes -- LA (Local Area unemployment) \n",
    "#                    S/U (seasonally adjusted/not adjusted) \n",
    "#                    ST (area code - 'state') \n",
    "#                    ## (state code) \n",
    "#                    00000000000 (area code)\n",
    "#                    03/04 (measure code - 03 = unemployment rate, 04 = unemployment)\n",
    "#                    ex. LASST240000000000004 = local area unemployment by state, seasonally adjusted, Marlyand unemployment data\n",
    "\n",
    "# creating state-to-seriesid reference map\n",
    "state_map = pd.read_csv(cwd + \"\\\\data\\\\sm_state.csv\")\n",
    "series_codes = {}\n",
    "for i in range(len(state_map.state_name)):\n",
    "    state = state_map.state_name.iloc[i]\n",
    "    code = f\"{state_map.state_code.iloc[i]:02}\"\n",
    "    series_id = f\"LASST{code}0000000000004\"\n",
    "    series_codes[state] = series_id\n",
    "\n",
    "def load_series(series_code, start_year, end_year):\n",
    "    headers = {'Content-type': 'application/json'}\n",
    "    data = json.dumps({\"seriesid\": [series_code], \"startyear\": start_year, \"endyear\": end_year})\n",
    "    p = requests.post('https://api.bls.gov/publicAPI/v1/timeseries/data/', data = data, headers = headers)\n",
    "    json_data = p.json()\n",
    "    return json_data\n",
    "        \n",
    "\n",
    "json_data = load_series(series_codes['North Carolina'], \"2019\", \"2021\")\n",
    "#print(json_data)"
   ]
  },
  {
   "cell_type": "code",
   "execution_count": 5,
   "id": "dd53d5a0",
   "metadata": {
    "collapsed": true
   },
   "outputs": [
    {
     "data": {
      "text/html": [
       "<div>\n",
       "<style scoped>\n",
       "    .dataframe tbody tr th:only-of-type {\n",
       "        vertical-align: middle;\n",
       "    }\n",
       "\n",
       "    .dataframe tbody tr th {\n",
       "        vertical-align: top;\n",
       "    }\n",
       "\n",
       "    .dataframe thead th {\n",
       "        text-align: right;\n",
       "    }\n",
       "</style>\n",
       "<table border=\"1\" class=\"dataframe\">\n",
       "  <thead>\n",
       "    <tr style=\"text-align: right;\">\n",
       "      <th></th>\n",
       "      <th>date</th>\n",
       "      <th>value</th>\n",
       "    </tr>\n",
       "  </thead>\n",
       "  <tbody>\n",
       "    <tr>\n",
       "      <th>28</th>\n",
       "      <td>2019-01-01</td>\n",
       "      <td>202316</td>\n",
       "    </tr>\n",
       "    <tr>\n",
       "      <th>27</th>\n",
       "      <td>2019-02-01</td>\n",
       "      <td>201588</td>\n",
       "    </tr>\n",
       "    <tr>\n",
       "      <th>26</th>\n",
       "      <td>2019-03-01</td>\n",
       "      <td>199948</td>\n",
       "    </tr>\n",
       "    <tr>\n",
       "      <th>25</th>\n",
       "      <td>2019-04-01</td>\n",
       "      <td>197815</td>\n",
       "    </tr>\n",
       "    <tr>\n",
       "      <th>24</th>\n",
       "      <td>2019-05-01</td>\n",
       "      <td>195582</td>\n",
       "    </tr>\n",
       "    <tr>\n",
       "      <th>23</th>\n",
       "      <td>2019-06-01</td>\n",
       "      <td>193758</td>\n",
       "    </tr>\n",
       "    <tr>\n",
       "      <th>22</th>\n",
       "      <td>2019-07-01</td>\n",
       "      <td>192131</td>\n",
       "    </tr>\n",
       "    <tr>\n",
       "      <th>21</th>\n",
       "      <td>2019-08-01</td>\n",
       "      <td>190018</td>\n",
       "    </tr>\n",
       "    <tr>\n",
       "      <th>20</th>\n",
       "      <td>2019-09-01</td>\n",
       "      <td>186799</td>\n",
       "    </tr>\n",
       "    <tr>\n",
       "      <th>19</th>\n",
       "      <td>2019-10-01</td>\n",
       "      <td>183001</td>\n",
       "    </tr>\n",
       "    <tr>\n",
       "      <th>18</th>\n",
       "      <td>2019-11-01</td>\n",
       "      <td>179636</td>\n",
       "    </tr>\n",
       "    <tr>\n",
       "      <th>17</th>\n",
       "      <td>2019-12-01</td>\n",
       "      <td>178295</td>\n",
       "    </tr>\n",
       "    <tr>\n",
       "      <th>16</th>\n",
       "      <td>2020-01-01</td>\n",
       "      <td>179605</td>\n",
       "    </tr>\n",
       "    <tr>\n",
       "      <th>15</th>\n",
       "      <td>2020-02-01</td>\n",
       "      <td>183494</td>\n",
       "    </tr>\n",
       "    <tr>\n",
       "      <th>14</th>\n",
       "      <td>2020-03-01</td>\n",
       "      <td>188762</td>\n",
       "    </tr>\n",
       "    <tr>\n",
       "      <th>13</th>\n",
       "      <td>2020-04-01</td>\n",
       "      <td>634823</td>\n",
       "    </tr>\n",
       "    <tr>\n",
       "      <th>12</th>\n",
       "      <td>2020-05-01</td>\n",
       "      <td>647514</td>\n",
       "    </tr>\n",
       "    <tr>\n",
       "      <th>11</th>\n",
       "      <td>2020-06-01</td>\n",
       "      <td>423965</td>\n",
       "    </tr>\n",
       "    <tr>\n",
       "      <th>10</th>\n",
       "      <td>2020-07-01</td>\n",
       "      <td>433293</td>\n",
       "    </tr>\n",
       "    <tr>\n",
       "      <th>9</th>\n",
       "      <td>2020-08-01</td>\n",
       "      <td>331558</td>\n",
       "    </tr>\n",
       "    <tr>\n",
       "      <th>8</th>\n",
       "      <td>2020-09-01</td>\n",
       "      <td>364282</td>\n",
       "    </tr>\n",
       "    <tr>\n",
       "      <th>7</th>\n",
       "      <td>2020-10-01</td>\n",
       "      <td>340996</td>\n",
       "    </tr>\n",
       "    <tr>\n",
       "      <th>6</th>\n",
       "      <td>2020-11-01</td>\n",
       "      <td>323110</td>\n",
       "    </tr>\n",
       "    <tr>\n",
       "      <th>5</th>\n",
       "      <td>2020-12-01</td>\n",
       "      <td>308883</td>\n",
       "    </tr>\n",
       "    <tr>\n",
       "      <th>4</th>\n",
       "      <td>2021-01-01</td>\n",
       "      <td>297719</td>\n",
       "    </tr>\n",
       "    <tr>\n",
       "      <th>3</th>\n",
       "      <td>2021-02-01</td>\n",
       "      <td>286655</td>\n",
       "    </tr>\n",
       "    <tr>\n",
       "      <th>2</th>\n",
       "      <td>2021-03-01</td>\n",
       "      <td>258974</td>\n",
       "    </tr>\n",
       "    <tr>\n",
       "      <th>1</th>\n",
       "      <td>2021-04-01</td>\n",
       "      <td>251214</td>\n",
       "    </tr>\n",
       "    <tr>\n",
       "      <th>0</th>\n",
       "      <td>2021-05-01</td>\n",
       "      <td>239523</td>\n",
       "    </tr>\n",
       "  </tbody>\n",
       "</table>\n",
       "</div>"
      ],
      "text/plain": [
       "         date   value\n",
       "28 2019-01-01  202316\n",
       "27 2019-02-01  201588\n",
       "26 2019-03-01  199948\n",
       "25 2019-04-01  197815\n",
       "24 2019-05-01  195582\n",
       "23 2019-06-01  193758\n",
       "22 2019-07-01  192131\n",
       "21 2019-08-01  190018\n",
       "20 2019-09-01  186799\n",
       "19 2019-10-01  183001\n",
       "18 2019-11-01  179636\n",
       "17 2019-12-01  178295\n",
       "16 2020-01-01  179605\n",
       "15 2020-02-01  183494\n",
       "14 2020-03-01  188762\n",
       "13 2020-04-01  634823\n",
       "12 2020-05-01  647514\n",
       "11 2020-06-01  423965\n",
       "10 2020-07-01  433293\n",
       "9  2020-08-01  331558\n",
       "8  2020-09-01  364282\n",
       "7  2020-10-01  340996\n",
       "6  2020-11-01  323110\n",
       "5  2020-12-01  308883\n",
       "4  2021-01-01  297719\n",
       "3  2021-02-01  286655\n",
       "2  2021-03-01  258974\n",
       "1  2021-04-01  251214\n",
       "0  2021-05-01  239523"
      ]
     },
     "execution_count": 5,
     "metadata": {},
     "output_type": "execute_result"
    }
   ],
   "source": [
    "response_data = json_data['Results']['series'][0]['data']\n",
    "\n",
    "dates = []\n",
    "values = []\n",
    "for n in response_data:\n",
    "    dates.append(datetime.strptime(f\"{n['year']}-{n['periodName']}\", '%Y-%B'))\n",
    "    values.append(int(n['value']))\n",
    "    \n",
    "df = pd.DataFrame({'date': dates, 'value': values})\n",
    "df.date = pd.to_datetime(df.date)\n",
    "df.sort_values(by='date')\n",
    "#df.plot(x='date', y='value', label='unemployed', color='orange')"
   ]
  },
  {
   "cell_type": "markdown",
   "id": "0bdacb47",
   "metadata": {},
   "source": [
    "***\n",
    "__Transform__\n",
    "\n",
    "Combine population by state and total vaccinations by state"
   ]
  },
  {
   "cell_type": "code",
   "execution_count": 6,
   "id": "a75d6e03",
   "metadata": {},
   "outputs": [],
   "source": [
    "vacc_data_state = vacc_data[['date', 'location', 'people_vaccinated']].copy()\n",
    "pop_data_state = pop_data[['STATE', 'POPESTIMATE2019']].copy()\n",
    "\n",
    "vacc_data_state.dropna(subset=['people_vaccinated'], inplace=True)\n",
    "pop_data_state.dropna(subset=['POPESTIMATE2019'], inplace=True)\n",
    "\n",
    "pop_data_state.rename(columns={'STATE': 'location'}, inplace=True)\n",
    "pop_data_state.rename(columns={'POPESTIMATE2019': 'population'}, inplace=True)\n",
    "\n",
    "merged = pd.merge(vacc_data_state, pop_data_state, how='left', on=['location'])\n",
    "merged.dropna(subset=['population'], inplace=True)\n",
    "\n",
    "merged['location'] = merged['location'].astype(str)\n",
    "merged['percent'] = merged.people_vaccinated / merged.population * 100\n",
    "\n",
    "merged.columns = merged.columns.str.strip()\n",
    "merged.date = pd.to_datetime(merged.date, format='%Y-%m-%d')"
   ]
  },
  {
   "cell_type": "markdown",
   "id": "fcf2e9fb",
   "metadata": {},
   "source": [
    "***\n",
    "__Visualizations__<br>\n",
    "Modify <code>state_name</code> on line 16 to determine which state's vaccine records you would like to further understand. All following cells use this specified state as reference. Use <code>plot_state(state_name, vis)</code> or <code>plot_all()</code> on line 17 to plot data from a single state, or all data combined."
   ]
  },
  {
   "cell_type": "code",
   "execution_count": 13,
   "id": "ae5eb664",
   "metadata": {
    "scrolled": true
   },
   "outputs": [
    {
     "data": {
      "image/png": "[encoded data removed]",
      "text/plain": [
       "<Figure size 432x288 with 1 Axes>"
      ]
     },
     "metadata": {},
     "output_type": "display_data"
    }
   ],
   "source": [
    "vis = merged[['date', 'percent', 'location']]\n",
    "\n",
    "def plot_state(state_name, vis, label, color):\n",
    "    # limiting vis data to a single state\n",
    "    vis = vis.loc[vis['location'] == state_name]\n",
    "    vis = vis[['date', 'percent']]\n",
    "    vis.plot(kind='line', x='date', y='percent', label=label, color=color)\n",
    "\n",
    "def plot_all(vis):\n",
    "    groups = vis.groupby('location')\n",
    "    for name, group in groups:\n",
    "        plt.plot(group['date'], group['percent'], label=name)\n",
    "\n",
    "## customize visualizations\n",
    "state_name = 'North Carolina'\n",
    "plot_state(state_name, vis, state_name, 'orange')\n",
    "#plot_all(vis)"
   ]
  },
  {
   "cell_type": "markdown",
   "id": "63f225fb",
   "metadata": {},
   "source": [
    "***\n",
    "__Model Testing__"
   ]
  },
  {
   "cell_type": "code",
   "execution_count": 14,
   "id": "eee82fe1",
   "metadata": {},
   "outputs": [],
   "source": [
    "state = merged.loc[merged['location'] == state_name]\n",
    "state = state[['date', 'location', 'percent']]"
   ]
  },
  {
   "cell_type": "code",
   "execution_count": 15,
   "id": "b5fcd177",
   "metadata": {},
   "outputs": [
    {
     "name": "stderr",
     "output_type": "stream",
     "text": [
      "[2021-07-15 17:34:35,014] WARNING | darts.models | Support Facebook Prophet is not available. To enable it, install u8darts[fbprophet] or u8darts[all].\n",
      "C:\\Users\\ramis\\anaconda3\\lib\\site-packages\\statsmodels\\tsa\\holtwinters\\model.py:427: FutureWarning: After 0.13 initialization must be handled at model creation\n",
      "  warnings.warn(\n",
      "[2021-07-15 17:34:36,762] INFO | darts.utils.statistics | The ACF has no local maximum for m < max_lag = 70.\n",
      "[2021-07-15 17:34:36,763] INFO | darts.models.theta | Theta model inferred seasonality of training series: 0\n",
      "[2021-07-15 17:34:36,763] INFO | darts.models.theta | Theta model inferred seasonality of training series: 0\n"
     ]
    },
    {
     "name": "stdout",
     "output_type": "stream",
     "text": [
      "Best model (Auto-ARIMA) obtains MAPE: 2.12%\n"
     ]
    }
   ],
   "source": [
    "from darts import TimeSeries\n",
    "import darts.models as models\n",
    "from darts.metrics import mape, mase\n",
    "from darts.utils.statistics import check_seasonality, plot_acf, plot_residuals_analysis\n",
    "\n",
    "get_data = state[['date', 'percent']].copy()\n",
    "\n",
    "# fill missing dates with padded vaccination percent data. 0.0 values would otherwise disrupt the model\n",
    "reset = pd.date_range(start=get_data.date.min(), end=get_data.date.max())\n",
    "get_data = get_data.set_index('date').reindex(reset).fillna(method='pad').rename_axis('date').reset_index()\n",
    "\n",
    "series = TimeSeries.from_dataframe(get_data, 'date', 'percent')\n",
    "# split train/test down the middle of the dataset [get_data.date.median()]\n",
    "train, test = series.split_before(pd.Timestamp('2021-06-01'))\n",
    "\n",
    "def test_models(models, train, test):\n",
    "    best = None\n",
    "    lowest = float('inf')\n",
    "    for model in models:\n",
    "        model.fit(train)\n",
    "        forecast = model.predict(len(test))\n",
    "        #print(\"model {} obtains MAPE: {:.2f}%\".format(model, mape(test, forecast)))\n",
    "        err = mape(test, forecast)\n",
    "        if err < lowest:\n",
    "            lowest = err\n",
    "            best = model\n",
    "    print('Best model ({}) obtains MAPE: {:.2f}%'.format(best, lowest))\n",
    "    return best\n",
    "\n",
    "best_model = test_models([models.ARIMA(), models.ExponentialSmoothing(), models.Theta(), models.AutoARIMA()], train, test)"
   ]
  },
  {
   "cell_type": "markdown",
   "id": "033c454a",
   "metadata": {},
   "source": [
    "***\n",
    "__Forecasting and Visualizing__"
   ]
  },
  {
   "cell_type": "code",
   "execution_count": 19,
   "id": "4a593da9",
   "metadata": {
    "scrolled": false
   },
   "outputs": [
    {
     "name": "stdout",
     "output_type": "stream",
     "text": [
      "[[54.17227705]]\n"
     ]
    },
    {
     "name": "stderr",
     "output_type": "stream",
     "text": [
      "<ipython-input-19-a7ca607a24a1>:13: UserWarning: FixedFormatter should only be used together with FixedLocator\n",
      "  plt.gca().set_yticklabels(['{:0.0f}%'.format(x) for x in plt.gca().get_yticks()])\n"
     ]
    },
    {
     "data": {
      "text/plain": [
       "<matplotlib.legend.Legend at 0x1fd2c8706d0>"
      ]
     },
     "execution_count": 19,
     "metadata": {},
     "output_type": "execute_result"
    },
    {
     "data": {
      "image/png": "[encoded data removed]",
      "text/plain": [
       "<Figure size 432x288 with 1 Axes>"
      ]
     },
     "metadata": {},
     "output_type": "display_data"
    }
   ],
   "source": [
    "#predict next X days of vaccinations\n",
    "pred = best_model.predict(90)\n",
    "\n",
    "t = pred[-1]\n",
    "print(t.values())\n",
    "\n",
    "#train.plot(label='actual')\n",
    "plot_state(state_name, vis, 'actual', 'orange')\n",
    "pred.plot(label='forecast', lw=2, linestyle='dashed', color='gray')\n",
    "\n",
    "plt.suptitle(state.location.iloc[0], fontsize='16')\n",
    "plt.ylabel('percent of population vaccinated', fontsize='10')\n",
    "plt.gca().set_yticklabels(['{:0.0f}%'.format(x) for x in plt.gca().get_yticks()]) \n",
    "plt.xlabel('date', fontsize='10')\n",
    "plt.legend()"
   ]
  },
  {
   "cell_type": "code",
   "execution_count": 17,
   "id": "6e59cba9",
   "metadata": {
    "scrolled": true
   },
   "outputs": [
    {
     "data": {
      "image/png": "[encoded data removed]",
      "text/plain": [
       "<Figure size 432x288 with 2 Axes>"
      ]
     },
     "metadata": {},
     "output_type": "display_data"
    }
   ],
   "source": [
    "# plot covid-19 vaccine data\n",
    "fig, ax = plt.subplots()\n",
    "plt.xticks(rotation=25)\n",
    "plt.xlabel('date')\n",
    "\n",
    "get_data = get_data.loc[get_data.date < df.date.max()]\n",
    "ax.plot(get_data.date, get_data.percent, color='orange', label='vaccines')\n",
    "#pred.plot(label='forecast', lw=2, linestyle='dashed', color='gray')\n",
    "\n",
    "# percent of population unemployed\n",
    "# attempt at calculating unemployment rate over plotting raw unemployment\n",
    "state_population_val = merged.loc[merged.location == state_name].population.iloc[0]\n",
    "#df.value = df.value / state_population_val * 100\n",
    "\n",
    "df = df.loc[df.date > get_data.date.min()]\n",
    "\n",
    "ax2 = ax.twinx()\n",
    "ax2.plot(df.date, df.value, color='cadetblue', label='unemployment')\n",
    "\n",
    "ax.grid(False)\n",
    "ax2.grid(False)\n",
    "ax.legend(loc='upper right')\n",
    "ax2.legend(loc='upper left')\n",
    "\n",
    "plt.suptitle(state_name, fontsize='16')\n",
    "ax.set_ylabel('% of pop. vaccinated')\n",
    "ax2.set_ylabel('unemployment rate')\n",
    "plt.show()"
   ]
  },
  {
   "cell_type": "code",
   "execution_count": null,
   "id": "81f4837e",
   "metadata": {},
   "outputs": [],
   "source": []
  }
 ],
 "metadata": {
  "kernelspec": {
   "display_name": "Python 3",
   "language": "python",
   "name": "python3"
  },
  "language_info": {
   "codemirror_mode": {
    "name": "ipython",
    "version": 3
   },
   "file_extension": ".py",
   "mimetype": "text/x-python",
   "name": "python",
   "nbconvert_exporter": "python",
   "pygments_lexer": "ipython3",
   "version": "3.8.8"
  }
 },
 "nbformat": 4,
 "nbformat_minor": 5
}
