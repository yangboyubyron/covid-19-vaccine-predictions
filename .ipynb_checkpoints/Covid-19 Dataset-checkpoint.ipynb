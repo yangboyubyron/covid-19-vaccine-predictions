{
 "cells": [
  {
   "cell_type": "markdown",
   "id": "d9cc418e",
   "metadata": {},
   "source": [
    "# COVID-19 Dataset\n",
    "Kaggle Links: [US Vaccine Tracker + Population Stats](https://www.kaggle.com/peretzcohen/us-vaccine-tracker/data#Your-turn_)\n",
    "\n",
    "Using 2019 population data from the U.S. Census and COVID-19 vaccine records to visualize vaccine progression and predict reopening. \n",
    "***"
   ]
  },
  {
   "cell_type": "markdown",
   "id": "9f803f75",
   "metadata": {},
   "source": [
    "*import necessary modules*"
   ]
  },
  {
   "cell_type": "code",
   "execution_count": 1,
   "id": "c4a1d675",
   "metadata": {},
   "outputs": [],
   "source": [
    "import pandas as pd\n",
    "import os\n",
    "\n",
    "import matplotlib.pyplot as plt\n",
    "plt.style.use('seaborn-paper')\n",
    "# print(plt.style.available)"
   ]
  },
  {
   "cell_type": "markdown",
   "id": "b37f8207",
   "metadata": {},
   "source": [
    "***\n",
    "__Extract__"
   ]
  },
  {
   "cell_type": "code",
   "execution_count": 2,
   "id": "985bd1bf",
   "metadata": {
    "scrolled": false
   },
   "outputs": [],
   "source": [
    "cwd = os.getcwd()\n",
    "pop_data = pd.read_csv(cwd + \"\\\\data\\\\\" + \"2019_Census_US_Population_Data_By_State_Lat_Long.csv\")\n",
    "vacc_data = pd.read_csv(\"https://raw.githubusercontent.com/owid/covid-19-data/master/public/data/vaccinations/us_state_vaccinations.csv\")"
   ]
  },
  {
   "cell_type": "markdown",
   "id": "0bdacb47",
   "metadata": {},
   "source": [
    "***\n",
    "__Transform__\n",
    "\n",
    "Combine population by state and total vaccinations by state"
   ]
  },
  {
   "cell_type": "code",
   "execution_count": 3,
   "id": "a75d6e03",
   "metadata": {},
   "outputs": [],
   "source": [
    "vacc_data_state = vacc_data[['date', 'location', 'people_vaccinated']].copy()\n",
    "pop_data_state = pop_data[['STATE', 'POPESTIMATE2019']].copy()\n",
    "\n",
    "vacc_data_state.dropna(subset=['people_vaccinated'], inplace=True)\n",
    "pop_data_state.dropna(subset=['POPESTIMATE2019'], inplace=True)\n",
    "\n",
    "pop_data_state.rename(columns={'STATE': 'location'}, inplace=True)\n",
    "pop_data_state.rename(columns={'POPESTIMATE2019': 'population'}, inplace=True)\n",
    "\n",
    "merged = pd.merge(vacc_data_state, pop_data_state, how='left', on=['location'])\n",
    "merged.dropna(subset=['population'], inplace=True)\n",
    "\n",
    "merged['location'] = merged['location'].astype(str)\n",
    "merged['percent'] = merged.people_vaccinated / merged.population * 100\n",
    "\n",
    "merged.date = pd.to_datetime(merged.date, format='%Y-%m-%d')"
   ]
  },
  {
   "cell_type": "code",
   "execution_count": 4,
   "id": "ae5eb664",
   "metadata": {
    "scrolled": false
   },
   "outputs": [
    {
     "data": {
      "text/plain": [
       "<matplotlib.legend.Legend at 0x13cfcae4970>"
      ]
     },
     "execution_count": 4,
     "metadata": {},
     "output_type": "execute_result"
    },
    {
     "data": {
      "image/png": "[encoded data removed]",
      "text/plain": [
       "<Figure size 460.8x316.8 with 1 Axes>"
      ]
     },
     "metadata": {
      "needs_background": "light"
     },
     "output_type": "display_data"
    }
   ],
   "source": [
    "vis = merged[['date', 'percent', 'location']]\n",
    "#vis.plot(kind='scatter', x='date', y='percent')\n",
    "\n",
    "vis = vis.loc[vis['location'] == 'Alabama']\n",
    "\n",
    "vis = vis[['date', 'percent']]\n",
    "vis.plot(kind='line', x='date', y='percent', label='Alabama')\n",
    "\n",
    "#groups = vis.groupby('location')\n",
    "#for name, group in groups:\n",
    "#    plt.plot(group['date'], group['percent'], label=name)\n",
    "plt.legend(loc='center left', bbox_to_anchor=(1, 0.5))"
   ]
  },
  {
   "cell_type": "markdown",
   "id": "734e87bf",
   "metadata": {},
   "source": [
    "***\n",
    "__Predictions__"
   ]
  },
  {
   "cell_type": "code",
   "execution_count": 5,
   "id": "198dd225",
   "metadata": {},
   "outputs": [
    {
     "data": {
      "text/html": [
       "<div>\n",
       "<style scoped>\n",
       "    .dataframe tbody tr th:only-of-type {\n",
       "        vertical-align: middle;\n",
       "    }\n",
       "\n",
       "    .dataframe tbody tr th {\n",
       "        vertical-align: top;\n",
       "    }\n",
       "\n",
       "    .dataframe thead th {\n",
       "        text-align: right;\n",
       "    }\n",
       "</style>\n",
       "<table border=\"1\" class=\"dataframe\">\n",
       "  <thead>\n",
       "    <tr style=\"text-align: right;\">\n",
       "      <th></th>\n",
       "      <th>date</th>\n",
       "      <th>percent</th>\n",
       "    </tr>\n",
       "  </thead>\n",
       "  <tbody>\n",
       "    <tr>\n",
       "      <th>0</th>\n",
       "      <td>2021-01-12</td>\n",
       "      <td>1.445203</td>\n",
       "    </tr>\n",
       "    <tr>\n",
       "      <th>1</th>\n",
       "      <td>2021-01-13</td>\n",
       "      <td>1.525376</td>\n",
       "    </tr>\n",
       "    <tr>\n",
       "      <th>2</th>\n",
       "      <td>2021-01-14</td>\n",
       "      <td>1.641382</td>\n",
       "    </tr>\n",
       "    <tr>\n",
       "      <th>3</th>\n",
       "      <td>2021-01-15</td>\n",
       "      <td>1.773459</td>\n",
       "    </tr>\n",
       "    <tr>\n",
       "      <th>4</th>\n",
       "      <td>2021-01-19</td>\n",
       "      <td>2.331525</td>\n",
       "    </tr>\n",
       "  </tbody>\n",
       "</table>\n",
       "</div>"
      ],
      "text/plain": [
       "        date   percent\n",
       "0 2021-01-12  1.445203\n",
       "1 2021-01-13  1.525376\n",
       "2 2021-01-14  1.641382\n",
       "3 2021-01-15  1.773459\n",
       "4 2021-01-19  2.331525"
      ]
     },
     "execution_count": 5,
     "metadata": {},
     "output_type": "execute_result"
    }
   ],
   "source": [
    "# time series prediction \n",
    "from sklearn.linear_model import LinearRegression\n",
    "\n",
    "alabama = merged.loc[merged['location'] == 'Alabama']\n",
    "alabama = alabama[['date', 'percent']]\n",
    "\n",
    "alabama.head()"
   ]
  },
  {
   "cell_type": "code",
   "execution_count": 6,
   "id": "8cf9d942",
   "metadata": {},
   "outputs": [
    {
     "ename": "ModuleNotFoundError",
     "evalue": "No module named 'darts'",
     "output_type": "error",
     "traceback": [
      "\u001b[1;31m---------------------------------------------------------------------------\u001b[0m",
      "\u001b[1;31mModuleNotFoundError\u001b[0m                       Traceback (most recent call last)",
      "\u001b[1;32m<ipython-input-6-1f3329ff5668>\u001b[0m in \u001b[0;36m<module>\u001b[1;34m\u001b[0m\n\u001b[1;32m----> 1\u001b[1;33m \u001b[1;32mfrom\u001b[0m \u001b[0mdarts\u001b[0m \u001b[1;32mimport\u001b[0m \u001b[0mTimeSeries\u001b[0m\u001b[1;33m\u001b[0m\u001b[1;33m\u001b[0m\u001b[0m\n\u001b[0m",
      "\u001b[1;31mModuleNotFoundError\u001b[0m: No module named 'darts'"
     ]
    }
   ],
   "source": [
    "from darts import TimeSeries"
   ]
  },
  {
   "cell_type": "code",
   "execution_count": null,
   "id": "ac3f6b69",
   "metadata": {},
   "outputs": [],
   "source": []
  }
 ],
 "metadata": {
  "kernelspec": {
   "display_name": "Python 3",
   "language": "python",
   "name": "python3"
  },
  "language_info": {
   "codemirror_mode": {
    "name": "ipython",
    "version": 3
   },
   "file_extension": ".py",
   "mimetype": "text/x-python",
   "name": "python",
   "nbconvert_exporter": "python",
   "pygments_lexer": "ipython3",
   "version": "3.8.10"
  }
 },
 "nbformat": 4,
 "nbformat_minor": 5
}
